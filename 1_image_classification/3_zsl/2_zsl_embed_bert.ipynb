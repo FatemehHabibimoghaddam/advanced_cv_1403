{
 "cells": [
  {
   "cell_type": "code",
   "execution_count": 59,
   "metadata": {},
   "outputs": [],
   "source": [
    "import torch\n",
    "import torch.nn as nn\n",
    "import torch.optim as optim\n",
    "import torchvision\n",
    "import torchvision.transforms as transforms\n",
    "from transformers import BertTokenizer, BertModel\n",
    "from sklearn.metrics.pairwise import cosine_similarity\n",
    "from torch.utils.data import DataLoader, Subset\n",
    "from torchvision import datasets, models\n",
    "import numpy as np\n",
    "import matplotlib.pyplot as plt"
   ]
  },
  {
   "cell_type": "code",
   "execution_count": 60,
   "metadata": {},
   "outputs": [
    {
     "name": "stdout",
     "output_type": "stream",
     "text": [
      "Files already downloaded and verified\n",
      "Files already downloaded and verified\n",
      "['airplane', 'automobile', 'bird', 'cat', 'deer', 'dog', 'frog', 'horse', 'ship', 'truck']\n"
     ]
    }
   ],
   "source": [
    "\n",
    "transform = transforms.Compose([transforms.ToTensor(), transforms.Normalize((0.5, 0.5, 0.5), (0.5, 0.5, 0.5))])\n",
    "\n",
    "\n",
    "trainset = datasets.CIFAR10(root='./data', train=True, download=True, transform=transform)\n",
    "testset = datasets.CIFAR10(root='./data', train=False, download=True, transform=transform)\n",
    "\n",
    "\n",
    "print(trainset.classes)"
   ]
  },
  {
   "cell_type": "code",
   "execution_count": 61,
   "metadata": {},
   "outputs": [],
   "source": [
    "train_images = []\n",
    "train_labels = []\n",
    "test_images = []\n",
    "test_labels = []\n",
    "\n",
    "\n",
    "classes = ['airplanes', 'cars', 'birds', 'cats', 'deer', 'dogs', 'frogs', 'horses', 'ships', 'trucks']\n",
    "\n",
    "\n",
    "for image, label in trainset:\n",
    "    if label != 9:  \n",
    "        train_images.append(image)\n",
    "        train_labels.append(label)\n",
    "\n",
    "for image, label in testset:\n",
    "    if label != 9: \n",
    "        test_images.append(image)\n",
    "        test_labels.append(label)"
   ]
  },
  {
   "cell_type": "code",
   "execution_count": 62,
   "metadata": {},
   "outputs": [],
   "source": [
    "train_loader = DataLoader(list(zip(train_images, train_labels)), batch_size=64, shuffle=True)\n",
    "test_loader = DataLoader(list(zip(test_images, test_labels)), batch_size=64, shuffle=False)"
   ]
  },
  {
   "cell_type": "code",
   "execution_count": 63,
   "metadata": {},
   "outputs": [],
   "source": [
    "device = torch.device(\"cuda\" if torch.cuda.is_available() else \"cpu\")  "
   ]
  },
  {
   "cell_type": "code",
   "execution_count": 64,
   "metadata": {},
   "outputs": [
    {
     "name": "stderr",
     "output_type": "stream",
     "text": [
      "/home/amin/anaconda3/lib/python3.11/site-packages/transformers/modeling_utils.py:446: FutureWarning: You are using `torch.load` with `weights_only=False` (the current default value), which uses the default pickle module implicitly. It is possible to construct malicious pickle data which will execute arbitrary code during unpickling (See https://github.com/pytorch/pytorch/blob/main/SECURITY.md#untrusted-models for more details). In a future release, the default value for `weights_only` will be flipped to `True`. This limits the functions that could be executed during unpickling. Arbitrary objects will no longer be allowed to be loaded via this mode unless they are explicitly allowlisted by the user via `torch.serialization.add_safe_globals`. We recommend you start setting `weights_only=True` for any use case where you don't have full control of the loaded file. Please open an issue on GitHub for any issues related to this experimental feature.\n",
      "  return torch.load(checkpoint_file, map_location=\"cpu\")\n",
      "Some weights of the model checkpoint at bert-base-uncased were not used when initializing BertModel: ['cls.predictions.decoder.weight', 'cls.predictions.transform.LayerNorm.bias', 'cls.predictions.transform.dense.weight', 'cls.predictions.bias', 'cls.predictions.transform.LayerNorm.weight', 'cls.seq_relationship.bias', 'cls.predictions.transform.dense.bias', 'cls.seq_relationship.weight']\n",
      "- This IS expected if you are initializing BertModel from the checkpoint of a model trained on another task or with another architecture (e.g. initializing a BertForSequenceClassification model from a BertForPreTraining model).\n",
      "- This IS NOT expected if you are initializing BertModel from the checkpoint of a model that you expect to be exactly identical (initializing a BertForSequenceClassification model from a BertForSequenceClassification model).\n"
     ]
    }
   ],
   "source": [
    "#BERT: Text tokenizer, Text Encoder, Text to vector converter!\n",
    "\n",
    "tokenizer = BertTokenizer.from_pretrained('bert-base-uncased')\n",
    "bert_model = BertModel.from_pretrained('bert-base-uncased').to(device)  "
   ]
  },
  {
   "cell_type": "code",
   "execution_count": 65,
   "metadata": {},
   "outputs": [
    {
     "name": "stdout",
     "output_type": "stream",
     "text": [
      "airplane\n",
      "automobile\n",
      "bird\n",
      "cat\n",
      "deer\n",
      "dog\n",
      "frog\n",
      "horse\n",
      "ship\n"
     ]
    }
   ],
   "source": [
    "label_embeddings = []\n",
    "\n",
    "for label in range(10): \n",
    "    if label != 9:  \n",
    "        label_text = str(trainset.classes[label])\n",
    "        print(label_text)\n",
    "        inputs = tokenizer(label_text, return_tensors='pt', padding=True, truncation=True)\n",
    "        outputs = bert_model(**inputs.to(device))  \n",
    "        embeddings = outputs.last_hidden_state.mean(dim=1) \n",
    "        label_embeddings.append(embeddings.cpu().detach().numpy()) \n",
    "\n",
    "label_embeddings = np.array(label_embeddings)"
   ]
  },
  {
   "cell_type": "code",
   "execution_count": 66,
   "metadata": {},
   "outputs": [],
   "source": [
    "#desired_label = 'airplane'\n",
    "#label_text = str(desired_label)\n",
    "#inputs = tokenizer(label_text, return_tensors='pt', padding=True, truncation=True)\n",
    "#outputs = bert_model(**inputs.to(device))  \n",
    "#embeddings = outputs.last_hidden_state.mean(dim=1) \n",
    "#print('text embedding output:', embeddings.cpu().detach().numpy())"
   ]
  },
  {
   "cell_type": "code",
   "execution_count": 67,
   "metadata": {},
   "outputs": [
    {
     "name": "stderr",
     "output_type": "stream",
     "text": [
      "/home/amin/anaconda3/lib/python3.11/site-packages/torchvision/models/_utils.py:208: UserWarning: The parameter 'pretrained' is deprecated since 0.13 and may be removed in the future, please use 'weights' instead.\n",
      "  warnings.warn(\n",
      "/home/amin/anaconda3/lib/python3.11/site-packages/torchvision/models/_utils.py:223: UserWarning: Arguments other than a weight enum or `None` for 'weights' are deprecated since 0.13 and may be removed in the future. The current behavior is equivalent to passing `weights=ResNet18_Weights.IMAGENET1K_V1`. You can also use `weights=ResNet18_Weights.DEFAULT` to get the most up-to-date weights.\n",
      "  warnings.warn(msg)\n"
     ]
    }
   ],
   "source": [
    "resnet18 = models.resnet18(pretrained=True)\n",
    "resnet18.fc = nn.Linear(resnet18.fc.in_features, 768) \n",
    "resnet18 = resnet18.to(device)\n",
    "criterion = nn.CosineEmbeddingLoss()\n",
    "optimizer = optim.Adam(resnet18.parameters(), lr=0.0001)\n",
    "\n",
    "#for param in resnet18.parameters():\n",
    "    #print(param)"
   ]
  },
  {
   "cell_type": "code",
   "execution_count": 68,
   "metadata": {},
   "outputs": [
    {
     "name": "stdout",
     "output_type": "stream",
     "text": [
      "Epoch [1/5], Loss: 0.0989\n",
      "Epoch [2/5], Loss: 0.0393\n",
      "Epoch [3/5], Loss: 0.0245\n",
      "Epoch [4/5], Loss: 0.0183\n",
      "Epoch [5/5], Loss: 0.0141\n"
     ]
    }
   ],
   "source": [
    "import torch\n",
    "import torch.nn as nn\n",
    "import torch.optim as optim\n",
    "from sklearn.metrics.pairwise import cosine_similarity\n",
    "\n",
    "\n",
    "\n",
    "# Training loop\n",
    "num_epochs = 5\n",
    "for epoch in range(num_epochs):\n",
    "    resnet18.train()  \n",
    "    running_loss = 0.0\n",
    "    \n",
    "    for inputs, targets in train_loader:\n",
    "        inputs, targets = inputs.to(device), targets.to(device)  \n",
    "        \n",
    "        # Assuming label_embeddings is precomputed and available for the targets\n",
    "        target_embeddings = torch.tensor(label_embeddings[targets.cpu().numpy()]).to(device) \n",
    "        target_embeddings = target_embeddings.squeeze(1)\n",
    "        \n",
    "        optimizer.zero_grad()\n",
    "        \n",
    "        # Forward pass\n",
    "        outputs = resnet18(inputs)\n",
    "        outputs = outputs.to(device)\n",
    "\n",
    "        # Define the similarity target\n",
    "        similarity_target = torch.ones(outputs.size(0), device=device)\n",
    "        \n",
    "        # Calculate the loss\n",
    "        loss = criterion(outputs, target_embeddings, similarity_target)\n",
    "        \n",
    "        # Backward pass and optimization\n",
    "        loss.backward()\n",
    "        optimizer.step()\n",
    "        \n",
    "        running_loss += loss.item()\n",
    "    \n",
    "    # Print the loss for each epoch\n",
    "    print(f\"Epoch [{epoch+1}/{num_epochs}], Loss: {running_loss/len(train_loader):.4f}\")\n"
   ]
  },
  {
   "cell_type": "code",
   "execution_count": 69,
   "metadata": {},
   "outputs": [
    {
     "name": "stdout",
     "output_type": "stream",
     "text": [
      "Mean Cosine Similarity: 0.97871745\n"
     ]
    }
   ],
   "source": [
    "import torch\n",
    "import numpy as np\n",
    "from sklearn.metrics.pairwise import cosine_similarity\n",
    "resnet18.eval()\n",
    "\n",
    "predicted_embeddings = []\n",
    "true_embeddings = []\n",
    "\n",
    "with torch.no_grad():\n",
    "    for inputs, targets in test_loader:\n",
    "        inputs, targets = inputs.to(device), targets.to(device)\n",
    "\n",
    "        outputs = resnet18(inputs)\n",
    "        outputs = outputs.to(device)\n",
    "\n",
    "        target_embeddings = torch.tensor(label_embeddings[targets.cpu().numpy()]).to(device)\n",
    "        target_embeddings = target_embeddings.squeeze(1)\n",
    "\n",
    "      \n",
    "        predicted_embeddings.append(outputs.cpu().numpy())\n",
    "        true_embeddings.append(target_embeddings.cpu().numpy())\n",
    "\n",
    "\n",
    "predicted_embeddings = np.concatenate(predicted_embeddings, axis=0)\n",
    "true_embeddings = np.concatenate(true_embeddings, axis=0)\n",
    "cos_similarities = cosine_similarity(predicted_embeddings, true_embeddings)\n",
    "mean_cos_sim = np.mean(np.diag(cos_similarities))  \n",
    "print(\"Mean Cosine Similarity:\", mean_cos_sim)\n"
   ]
  },
  {
   "cell_type": "code",
   "execution_count": 70,
   "metadata": {},
   "outputs": [],
   "source": [
    "label = 'trucks'\n",
    "label_text = str(label)\n",
    "inputs = tokenizer(label_text, return_tensors='pt', padding=True, truncation=True)\n",
    "outputs = bert_model(**inputs.to(device))  \n",
    "unseen_embedding = outputs.last_hidden_state.mean(dim=1) "
   ]
  },
  {
   "cell_type": "code",
   "execution_count": 71,
   "metadata": {},
   "outputs": [],
   "source": [
    "truck_images = []\n",
    "truck_labels = []\n",
    "\n",
    "resnet18.eval()\n",
    "\n",
    "for image, label in testset:\n",
    "    if label == 9:  \n",
    "        truck_images.append(image)\n",
    "        truck_labels.append(label)\n",
    "\n",
    "\n",
    "unseen_loader = DataLoader(list(zip(truck_images, truck_labels)), batch_size=64, shuffle=True)\n"
   ]
  },
  {
   "cell_type": "code",
   "execution_count": 72,
   "metadata": {},
   "outputs": [
    {
     "name": "stdout",
     "output_type": "stream",
     "text": [
      "Mean Cosine Similarity: 0.84368193\n"
     ]
    }
   ],
   "source": [
    "predicted_embeddings = []\n",
    "true_embeddings = []\n",
    "\n",
    "\n",
    "with torch.no_grad():\n",
    "    for inputs, targets in unseen_loader:\n",
    "        inputs, targets = inputs.to(device), targets.to(device)\n",
    "        outputs = resnet18(inputs)\n",
    "        outputs = outputs.to(device)\n",
    "\n",
    "        target_embeddings = unseen_embedding\n",
    "        target_embeddings = target_embeddings.squeeze(1)\n",
    "\n",
    "        predicted_embeddings.append(outputs.cpu().numpy())\n",
    "        true_embeddings.append(target_embeddings.cpu().numpy())\n",
    "\n",
    "\n",
    "predicted_embeddings = np.concatenate(predicted_embeddings, axis=0)\n",
    "true_embeddings = np.concatenate(true_embeddings, axis=0)\n",
    "\n",
    "\n",
    "cos_similarities = cosine_similarity(predicted_embeddings, true_embeddings)\n",
    "#print(cos_similarities)\n",
    "\n",
    "mean_cos_sim = np.mean(np.diag(cos_similarities))  # Use diagonal\n",
    "print(\"Mean Cosine Similarity:\", mean_cos_sim)"
   ]
  },
  {
   "cell_type": "code",
   "execution_count": 76,
   "metadata": {},
   "outputs": [
    {
     "name": "stdout",
     "output_type": "stream",
     "text": [
      "0.8575732\n"
     ]
    }
   ],
   "source": [
    "single_truck_image = truck_images[0].unsqueeze(0)\n",
    "single_truck_image_transformed = single_truck_image.to(device)\n",
    "resnet18.eval() \n",
    "with torch.no_grad():\n",
    "    predicted_embedding = resnet18(single_truck_image_transformed).cpu().numpy()\n",
    "\n",
    "\n",
    "cosine_sim_with_labels = cosine_similarity(predicted_embedding, unseen_embedding.cpu().detach().numpy())\n",
    "print(cosine_sim_with_labels[0][0])"
   ]
  },
  {
   "cell_type": "code",
   "execution_count": null,
   "metadata": {},
   "outputs": [],
   "source": []
  }
 ],
 "metadata": {
  "kernelspec": {
   "display_name": "base",
   "language": "python",
   "name": "python3"
  },
  "language_info": {
   "codemirror_mode": {
    "name": "ipython",
    "version": 3
   },
   "file_extension": ".py",
   "mimetype": "text/x-python",
   "name": "python",
   "nbconvert_exporter": "python",
   "pygments_lexer": "ipython3",
   "version": "3.11.4"
  }
 },
 "nbformat": 4,
 "nbformat_minor": 2
}
